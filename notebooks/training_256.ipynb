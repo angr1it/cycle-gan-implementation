{
 "cells": [
  {
   "cell_type": "code",
   "execution_count": 1,
   "metadata": {},
   "outputs": [
    {
     "name": "stdout",
     "output_type": "stream",
     "text": [
      "Sat Feb  3 15:49:08 2024       \n",
      "+---------------------------------------------------------------------------------------+\n",
      "| NVIDIA-SMI 545.29.04              Driver Version: 546.17       CUDA Version: 12.3     |\n",
      "|-----------------------------------------+----------------------+----------------------+\n",
      "| GPU  Name                 Persistence-M | Bus-Id        Disp.A | Volatile Uncorr. ECC |\n",
      "| Fan  Temp   Perf          Pwr:Usage/Cap |         Memory-Usage | GPU-Util  Compute M. |\n",
      "|                                         |                      |               MIG M. |\n",
      "|=========================================+======================+======================|\n",
      "|   0  NVIDIA GeForce RTX 3060 Ti     On  | 00000000:01:00.0  On |                  N/A |\n",
      "|  0%   52C    P0              48W / 200W |    697MiB /  8192MiB |      1%      Default |\n",
      "|                                         |                      |                  N/A |\n",
      "+-----------------------------------------+----------------------+----------------------+\n",
      "                                                                                         \n",
      "+---------------------------------------------------------------------------------------+\n",
      "| Processes:                                                                            |\n",
      "|  GPU   GI   CI        PID   Type   Process name                            GPU Memory |\n",
      "|        ID   ID                                                             Usage      |\n",
      "|=======================================================================================|\n",
      "|    0   N/A  N/A        25      G   /Xwayland                                 N/A      |\n",
      "|    0   N/A  N/A        36      G   /Xwayland                                 N/A      |\n",
      "|    0   N/A  N/A        37      G   /Xwayland                                 N/A      |\n",
      "+---------------------------------------------------------------------------------------+\n"
     ]
    }
   ],
   "source": [
    "!nvidia-smi"
   ]
  },
  {
   "cell_type": "code",
   "execution_count": null,
   "metadata": {},
   "outputs": [],
   "source": [
    "import os\n",
    "import sys\n",
    "sys.path.insert(0, os.path.abspath('./src'))"
   ]
  },
  {
   "cell_type": "code",
   "execution_count": 2,
   "metadata": {},
   "outputs": [],
   "source": [
    "import torch\n",
    "\n",
    "from training.datasets.loader import get_loader\n",
    "from training.models.model import CycleGAN\n",
    "from training.train import train\n",
    "from training.utils.logger import Logger\n"
   ]
  },
  {
   "cell_type": "code",
   "execution_count": 3,
   "metadata": {},
   "outputs": [],
   "source": [
    "BATCH_SIZE = 2\n",
    "IMG_SIZE = 256"
   ]
  },
  {
   "cell_type": "code",
   "execution_count": 4,
   "metadata": {},
   "outputs": [
    {
     "name": "stdout",
     "output_type": "stream",
     "text": [
      "Using CUDA\n"
     ]
    }
   ],
   "source": [
    "loader = get_loader('./datasets/monet2photo/', 'train', IMG_SIZE, BATCH_SIZE)\n",
    "\n",
    "cuda = 'cuda' if torch.cuda.is_available() else 'cpu'\n",
    "print(\"Using CUDA\" if cuda else \"Using CPU :(\")\n",
    "\n",
    "model = CycleGAN(cuda, lr=0.00003, load=True, load_dir='./output')"
   ]
  },
  {
   "cell_type": "code",
   "execution_count": 5,
   "metadata": {},
   "outputs": [
    {
     "name": "stderr",
     "output_type": "stream",
     "text": [
      "Setting up a new session...\n"
     ]
    },
    {
     "name": "stdout",
     "output_type": "stream",
     "text": [
      "Epoch 001/040 [3144/3144] -- loss_G: 4.0688 | loss_G_identity: 1.2465 | loss_G_GAN: 0.5129 | loss_G_cycle: 2.3094 | loss_D: 0.1839 -- ETA: 21:59:48.1083760497347\n",
      "Epoch 002/040 [3144/3144] -- loss_G: 3.7292 | loss_G_identity: 1.1274 | loss_G_GAN: 0.5540 | loss_G_cycle: 2.0477 | loss_D: 0.1309 -- ETA: 21:20:03.338686\n",
      "Epoch 003/040 [3144/3144] -- loss_G: 3.6381 | loss_G_identity: 1.0949 | loss_G_GAN: 0.5752 | loss_G_cycle: 1.9680 | loss_D: 0.1097 -- ETA: 20:39:12.389453\n",
      "Epoch 004/040 [3144/3144] -- loss_G: 3.6235 | loss_G_identity: 1.0791 | loss_G_GAN: 0.6110 | loss_G_cycle: 1.9334 | loss_D: 0.0917 -- ETA: 20:02:15.252237\n",
      "Epoch 005/040 [3144/3144] -- loss_G: 3.6080 | loss_G_identity: 1.0663 | loss_G_GAN: 0.6355 | loss_G_cycle: 1.9062 | loss_D: 0.0789 -- ETA: 19:27:06.320778\n",
      "Epoch 006/040 [3144/3144] -- loss_G: 3.6178 | loss_G_identity: 1.0659 | loss_G_GAN: 0.6584 | loss_G_cycle: 1.8936 | loss_D: 0.0693 -- ETA: 18:52:34.207558\n",
      "Epoch 007/040 [3144/3144] -- loss_G: 3.6187 | loss_G_identity: 1.0587 | loss_G_GAN: 0.6813 | loss_G_cycle: 1.8787 | loss_D: 0.0612 -- ETA: 18:18:26.322683\n",
      "Epoch 008/040 [3144/3144] -- loss_G: 3.6408 | loss_G_identity: 1.0535 | loss_G_GAN: 0.7173 | loss_G_cycle: 1.8700 | loss_D: 0.0549 -- ETA: 17:44:32.998527\n",
      "Epoch 009/040 [3144/3144] -- loss_G: 3.6364 | loss_G_identity: 1.0489 | loss_G_GAN: 0.7329 | loss_G_cycle: 1.8547 | loss_D: 0.0486 -- ETA: 17:10:48.376061\n",
      "Epoch 010/040 [3144/3144] -- loss_G: 3.6332 | loss_G_identity: 1.0463 | loss_G_GAN: 0.7455 | loss_G_cycle: 1.8414 | loss_D: 0.0442 -- ETA: 16:38:22.003308\n",
      "Epoch 011/040 [0367/3144] -- loss_G: 3.6231 | loss_G_identity: 1.0520 | loss_G_GAN: 0.7423 | loss_G_cycle: 1.8289 | loss_D: 0.0423 -- ETA: 16:34:40.011605\n",
      "Stopped by user.\n"
     ]
    }
   ],
   "source": [
    "logger = train(model, loader, cuda, epochs=40)"
   ]
  },
  {
   "cell_type": "code",
   "execution_count": 9,
   "metadata": {},
   "outputs": [
    {
     "name": "stderr",
     "output_type": "stream",
     "text": [
      "Setting up a new session...\n"
     ]
    },
    {
     "name": "stdout",
     "output_type": "stream",
     "text": [
      "Epoch 011/040 [3144/3144] -- loss_G: 3.5954 | loss_G_identity: 1.0346 | loss_G_GAN: 0.7696 | loss_G_cycle: 1.7913 | loss_D: 0.0356 -- ETA: 16:15:18.014359444583loss_G: 3.5987 | loss_G_identity: 1.0354 | loss_G_GAN: 0.7702 | loss_G_cycle: 1.7931 | loss_D: 0.0355 -- ETA: 16:17:51.814217\n",
      "Epoch 012/040 [3144/3144] -- loss_G: 3.5841 | loss_G_identity: 1.0311 | loss_G_GAN: 0.7779 | loss_G_cycle: 1.7751 | loss_D: 0.0325 -- ETA: 15:43:32.041395\n",
      "Epoch 013/040 [3144/3144] -- loss_G: 3.5902 | loss_G_identity: 1.0325 | loss_G_GAN: 0.7881 | loss_G_cycle: 1.7697 | loss_D: 0.0298 -- ETA: 15:12:06.195678\n",
      "Epoch 014/040 [0316/3144] -- loss_G: 3.5750 | loss_G_identity: 1.0269 | loss_G_GAN: 0.7821 | loss_G_cycle: 1.7659 | loss_D: 0.0277 -- ETA: 15:08:16.502967\n",
      "Stopped by user.\n"
     ]
    }
   ],
   "source": [
    "logger = Logger(batches_epoch=len(loader), epoch=11, n_epochs=40)\n",
    "logger.load_losses()\n",
    "model = CycleGAN(cuda, lr=0.00002, load=True, load_dir='./output', C1=2.0, C2=4.0)\n",
    "logger = train(model, loader, cuda, logger=logger)"
   ]
  },
  {
   "cell_type": "code",
   "execution_count": 10,
   "metadata": {},
   "outputs": [
    {
     "name": "stderr",
     "output_type": "stream",
     "text": [
      "Setting up a new session...\n"
     ]
    },
    {
     "name": "stdout",
     "output_type": "stream",
     "text": [
      "Epoch 014/040 [3144/3144] -- loss_G: 3.5936 | loss_G_identity: 1.0296 | loss_G_GAN: 0.7998 | loss_G_cycle: 1.7642 | loss_D: 0.0272 -- ETA: 14:33:54.172063674350\n",
      "Epoch 015/040 [3144/3144] -- loss_G: 3.5966 | loss_G_identity: 1.0292 | loss_G_GAN: 0.8104 | loss_G_cycle: 1.7570 | loss_D: 0.0258 -- ETA: 13:54:27.326590\n",
      "Epoch 016/040 [3144/3144] -- loss_G: 3.5970 | loss_G_identity: 1.0285 | loss_G_GAN: 0.8155 | loss_G_cycle: 1.7530 | loss_D: 0.0236 -- ETA: 13:19:55.297144\n",
      "Epoch 017/040 [0065/3144] -- loss_G: 3.6620 | loss_G_identity: 1.0339 | loss_G_GAN: 0.8422 | loss_G_cycle: 1.7859 | loss_D: 0.0208 -- ETA: 13:19:24.146290\n",
      "Stopped by user.\n"
     ]
    }
   ],
   "source": [
    "logger = Logger(batches_epoch=len(loader), epoch=14, n_epochs=40)\n",
    "logger.load_losses()\n",
    "model = CycleGAN(cuda, lr=0.00002, load=True, load_dir='./output', C1=20.0, C2=40.0)\n",
    "logger = train(model, loader, cuda, logger=logger)"
   ]
  },
  {
   "cell_type": "code",
   "execution_count": 14,
   "metadata": {},
   "outputs": [
    {
     "name": "stderr",
     "output_type": "stream",
     "text": [
      "Setting up a new session...\n"
     ]
    },
    {
     "name": "stdout",
     "output_type": "stream",
     "text": [
      "Epoch 017/040 [3144/3144] -- loss_G: 3.5478 | loss_G_identity: 1.0158 | loss_G_GAN: 0.8322 | loss_G_cycle: 1.6997 | loss_D: 0.0179 -- ETA: 13:10:36.13941365916770\n",
      "Epoch 018/040 [3144/3144] -- loss_G: 3.5415 | loss_G_identity: 1.0135 | loss_G_GAN: 0.8390 | loss_G_cycle: 1.6890 | loss_D: 0.0169 -- ETA: 12:23:12.866133\n",
      "Epoch 019/040 [3144/3144] -- loss_G: 3.5382 | loss_G_identity: 1.0124 | loss_G_GAN: 0.8406 | loss_G_cycle: 1.6851 | loss_D: 0.0161 -- ETA: 2 days, 18:21:22.5680253.5294 | loss_G_identity: 1.0093 | loss_G_GAN: 0.8408 | loss_G_cycle: 1.6792 | loss_D: 0.0161 -- ETA: 11:57:41.258782\n",
      "Epoch 020/040 [3144/3144] -- loss_G: 3.5403 | loss_G_identity: 1.0138 | loss_G_GAN: 0.8433 | loss_G_cycle: 1.6832 | loss_D: 0.0158 -- ETA: 2 days, 2:19:30.0396479\n",
      "Epoch 021/040 [3144/3144] -- loss_G: 3.5395 | loss_G_identity: 1.0142 | loss_G_GAN: 0.8448 | loss_G_cycle: 1.6805 | loss_D: 0.0152 -- ETA: 1 day, 16:22:36.156831\n",
      "Epoch 022/040 [3144/3144] -- loss_G: 3.5395 | loss_G_identity: 1.0128 | loss_G_GAN: 0.8476 | loss_G_cycle: 1.6791 | loss_D: 0.0147 -- ETA: 1 day, 9:34:08.2674268\n",
      "Epoch 023/040 [3144/3144] -- loss_G: 3.5426 | loss_G_identity: 1.0124 | loss_G_GAN: 0.8517 | loss_G_cycle: 1.6785 | loss_D: 0.0140 -- ETA: 1 day, 4:31:24.856234\n",
      "Epoch 024/040 [3144/3144] -- loss_G: 3.5414 | loss_G_identity: 1.0123 | loss_G_GAN: 0.8530 | loss_G_cycle: 1.6761 | loss_D: 0.0135 -- ETA: 1 day, 0:36:04.849589\n",
      "Epoch 025/040 [3144/3144] -- loss_G: 3.5429 | loss_G_identity: 1.0118 | loss_G_GAN: 0.8563 | loss_G_cycle: 1.6748 | loss_D: 0.0131 -- ETA: 21:25:55.226338896184\n",
      "Epoch 026/040 [3144/3144] -- loss_G: 3.5485 | loss_G_identity: 1.0127 | loss_G_GAN: 0.8603 | loss_G_cycle: 1.6756 | loss_D: 0.0124 -- ETA: 18:46:58.980667\n",
      "Epoch 027/040 [0221/3144] -- loss_G: 3.5480 | loss_G_identity: 1.0199 | loss_G_GAN: 0.8449 | loss_G_cycle: 1.6832 | loss_D: 0.0120 -- ETA: 18:36:50.083357\n",
      "Stopped by user.\n"
     ]
    }
   ],
   "source": [
    "logger = Logger(batches_epoch=len(loader), epoch=17, n_epochs=40)\n",
    "logger.load_losses()\n",
    "model = CycleGAN(cuda, lr=0.000005, load=True, load_dir='./output')\n",
    "logger = train(model, loader, cuda, logger=logger)"
   ]
  },
  {
   "cell_type": "code",
   "execution_count": null,
   "metadata": {},
   "outputs": [],
   "source": []
  }
 ],
 "metadata": {
  "kernelspec": {
   "display_name": "Python 3",
   "language": "python",
   "name": "python3"
  },
  "language_info": {
   "codemirror_mode": {
    "name": "ipython",
    "version": 3
   },
   "file_extension": ".py",
   "mimetype": "text/x-python",
   "name": "python",
   "nbconvert_exporter": "python",
   "pygments_lexer": "ipython3",
   "version": "3.10.13"
  }
 },
 "nbformat": 4,
 "nbformat_minor": 2
}
