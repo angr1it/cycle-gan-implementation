{
 "cells": [
  {
   "cell_type": "code",
   "execution_count": 1,
   "metadata": {},
   "outputs": [
    {
     "name": "stdout",
     "output_type": "stream",
     "text": [
      "Sun Feb  4 12:12:33 2024       \n",
      "+---------------------------------------------------------------------------------------+\n",
      "| NVIDIA-SMI 545.29.04              Driver Version: 546.17       CUDA Version: 12.3     |\n",
      "|-----------------------------------------+----------------------+----------------------+\n",
      "| GPU  Name                 Persistence-M | Bus-Id        Disp.A | Volatile Uncorr. ECC |\n",
      "| Fan  Temp   Perf          Pwr:Usage/Cap |         Memory-Usage | GPU-Util  Compute M. |\n",
      "|                                         |                      |               MIG M. |\n",
      "|=========================================+======================+======================|\n",
      "|   0  NVIDIA GeForce RTX 3060 Ti     On  | 00000000:01:00.0  On |                  N/A |\n",
      "| 58%   61C    P2              51W / 200W |   1161MiB /  8192MiB |      2%      Default |\n",
      "|                                         |                      |                  N/A |\n",
      "+-----------------------------------------+----------------------+----------------------+\n",
      "                                                                                         \n",
      "+---------------------------------------------------------------------------------------+\n",
      "| Processes:                                                                            |\n",
      "|  GPU   GI   CI        PID   Type   Process name                            GPU Memory |\n",
      "|        ID   ID                                                             Usage      |\n",
      "|=======================================================================================|\n",
      "|    0   N/A  N/A        25      G   /Xwayland                                 N/A      |\n",
      "|    0   N/A  N/A        36      G   /Xwayland                                 N/A      |\n",
      "|    0   N/A  N/A        37      G   /Xwayland                                 N/A      |\n",
      "|    0   N/A  N/A     39002      C   /python3.10                               N/A      |\n",
      "+---------------------------------------------------------------------------------------+\n"
     ]
    }
   ],
   "source": [
    "!nvidia-smi"
   ]
  },
  {
   "cell_type": "code",
   "execution_count": 2,
   "metadata": {},
   "outputs": [],
   "source": [
    "import os\n",
    "import sys\n",
    "sys.path.insert(0, os.path.abspath('./src'))"
   ]
  },
  {
   "cell_type": "code",
   "execution_count": 3,
   "metadata": {},
   "outputs": [],
   "source": [
    "import torch\n",
    "\n",
    "from training.datasets.loader import get_loader\n",
    "from training.models.model import CycleGAN\n",
    "from training.train import train\n",
    "from training.utils.logger import Logger\n"
   ]
  },
  {
   "cell_type": "code",
   "execution_count": 4,
   "metadata": {},
   "outputs": [],
   "source": [
    "BATCH_SIZE = 8\n",
    "IMG_SIZE = 128"
   ]
  },
  {
   "cell_type": "code",
   "execution_count": 5,
   "metadata": {},
   "outputs": [
    {
     "name": "stdout",
     "output_type": "stream",
     "text": [
      "Using CUDA\n"
     ]
    }
   ],
   "source": [
    "loader = get_loader('./datasets/monet2photo/', 'train', IMG_SIZE, BATCH_SIZE)\n",
    "\n",
    "cuda = 'cuda' if torch.cuda.is_available() else 'cpu'\n",
    "print(\"Using CUDA\" if cuda else \"Using CPU :(\")"
   ]
  },
  {
   "cell_type": "code",
   "execution_count": 6,
   "metadata": {},
   "outputs": [
    {
     "name": "stderr",
     "output_type": "stream",
     "text": [
      "Setting up a new session...\n"
     ]
    },
    {
     "name": "stdout",
     "output_type": "stream",
     "text": [
      "Epoch 001/100 [0786/0786] -- loss_G: 7.9115 | loss_G_identity: 2.1778 | loss_G_GAN: 0.9032 | loss_G_cycle: 4.8305 | loss_D: 0.3422 -- ETA: 10:38:58.6783000\n",
      "Epoch 002/100 [0786/0786] -- loss_G: 6.6819 | loss_G_identity: 1.7999 | loss_G_GAN: 0.9003 | loss_G_cycle: 3.9817 | loss_D: 0.2397 -- ETA: 10:33:13.893727\n",
      "Epoch 003/100 [0786/0786] -- loss_G: 6.1963 | loss_G_identity: 1.6608 | loss_G_GAN: 0.8943 | loss_G_cycle: 3.6412 | loss_D: 0.2143 -- ETA: 10:27:20.415184\n",
      "Epoch 004/100 [0786/0786] -- loss_G: 5.8083 | loss_G_identity: 1.5660 | loss_G_GAN: 0.8798 | loss_G_cycle: 3.3625 | loss_D: 0.1956 -- ETA: 10:20:06.839773\n",
      "Epoch 005/100 [0786/0786] -- loss_G: 5.4477 | loss_G_identity: 1.4750 | loss_G_GAN: 0.8497 | loss_G_cycle: 3.1230 | loss_D: 0.1772 -- ETA: 10:11:28.589695\n",
      "Epoch 006/100 [0786/0786] -- loss_G: 5.1266 | loss_G_identity: 1.3880 | loss_G_GAN: 0.7995 | loss_G_cycle: 2.9391 | loss_D: 0.1607 -- ETA: 10:03:50.381492\n",
      "Epoch 007/100 [0786/0786] -- loss_G: 4.8738 | loss_G_identity: 1.3190 | loss_G_GAN: 0.7735 | loss_G_cycle: 2.7813 | loss_D: 0.1518 -- ETA: 9:57:16.3542871\n",
      "Epoch 008/100 [0786/0786] -- loss_G: 4.6802 | loss_G_identity: 1.2637 | loss_G_GAN: 0.7549 | loss_G_cycle: 2.6615 | loss_D: 0.1330 -- ETA: 9:51:47.333639\n",
      "Epoch 009/100 [0786/0786] -- loss_G: 4.5110 | loss_G_identity: 1.2121 | loss_G_GAN: 0.7559 | loss_G_cycle: 2.5430 | loss_D: 0.2104 -- ETA: 9:46:01.195847\n",
      "Epoch 010/100 [0786/0786] -- loss_G: 4.3905 | loss_G_identity: 1.1811 | loss_G_GAN: 0.7222 | loss_G_cycle: 2.4872 | loss_D: 0.1169 -- ETA: 9:39:29.880680\n",
      "Epoch 011/100 [0786/0786] -- loss_G: 4.3048 | loss_G_identity: 1.1522 | loss_G_GAN: 0.7359 | loss_G_cycle: 2.4166 | loss_D: 0.1093 -- ETA: 9:33:22.082755\n",
      "Epoch 012/100 [0131/0786] -- loss_G: 4.2654 | loss_G_identity: 1.1381 | loss_G_GAN: 0.7522 | loss_G_cycle: 2.3752 | loss_D: 0.1033 -- ETA: 9:32:24.847053\n",
      "Stopped by user.\n"
     ]
    }
   ],
   "source": [
    "model = CycleGAN(cuda, lr=0.0003, n_res_blocks=5)\n",
    "logger = train(model, loader, cuda)"
   ]
  },
  {
   "cell_type": "code",
   "execution_count": 8,
   "metadata": {},
   "outputs": [
    {
     "name": "stderr",
     "output_type": "stream",
     "text": [
      "Setting up a new session...\n"
     ]
    },
    {
     "name": "stdout",
     "output_type": "stream",
     "text": [
      "Epoch 012/050 [0786/0786] -- loss_G: 3.7412 | loss_G_identity: 1.0427 | loss_G_GAN: 0.7351 | loss_G_cycle: 1.9634 | loss_D: 0.0553 -- ETA: 4:08:52.210297\n",
      "Epoch 013/050 [0786/0786] -- loss_G: 3.6852 | loss_G_identity: 1.0460 | loss_G_GAN: 0.7272 | loss_G_cycle: 1.9119 | loss_D: 0.0510 -- ETA: 4:01:59.145660\n",
      "Epoch 014/050 [0786/0786] -- loss_G: 3.6785 | loss_G_identity: 1.0505 | loss_G_GAN: 0.7306 | loss_G_cycle: 1.8974 | loss_D: 0.0472 -- ETA: 3:55:08.227850\n",
      "Epoch 015/050 [0786/0786] -- loss_G: 3.6783 | loss_G_identity: 1.0516 | loss_G_GAN: 0.7435 | loss_G_cycle: 1.8832 | loss_D: 0.0437 -- ETA: 3:49:44.355893\n",
      "Epoch 016/050 [0786/0786] -- loss_G: 3.6786 | loss_G_identity: 1.0505 | loss_G_GAN: 0.7581 | loss_G_cycle: 1.8699 | loss_D: 0.0398 -- ETA: 3:43:54.539251\n",
      "Epoch 017/050 [0008/0786] -- loss_G: 3.6725 | loss_G_identity: 1.0529 | loss_G_GAN: 0.7338 | loss_G_cycle: 1.8858 | loss_D: 0.0409 -- ETA: 3:43:53.894251\n",
      "Stopped by user.\n"
     ]
    }
   ],
   "source": [
    "model = CycleGAN(cuda, n_res_blocks=5, lr=0.00003, load=True, load_dir='./output')\n",
    "logger = Logger(batches_epoch=len(loader), epoch=12, n_epochs=50)\n",
    "logger.load_losses()\n",
    "logger = train(model, loader, cuda, logger=logger)"
   ]
  },
  {
   "cell_type": "code",
   "execution_count": 9,
   "metadata": {},
   "outputs": [
    {
     "name": "stderr",
     "output_type": "stream",
     "text": [
      "Setting up a new session...\n"
     ]
    },
    {
     "name": "stdout",
     "output_type": "stream",
     "text": [
      "Epoch 017/050 [0786/0786] -- loss_G: 3.6499 | loss_G_identity: 1.0423 | loss_G_GAN: 0.7887 | loss_G_cycle: 1.8189 | loss_D: 0.0360 -- ETA: 3:43:35.967457\n",
      "Epoch 018/050 [0786/0786] -- loss_G: 3.6482 | loss_G_identity: 1.0444 | loss_G_GAN: 0.7896 | loss_G_cycle: 1.8143 | loss_D: 0.0356 -- ETA: 3:34:46.758781\n",
      "Epoch 019/050 [0786/0786] -- loss_G: 3.6497 | loss_G_identity: 1.0469 | loss_G_GAN: 0.7900 | loss_G_cycle: 1.8129 | loss_D: 0.0355 -- ETA: 3:26:22.963182\n",
      "Epoch 020/050 [0786/0786] -- loss_G: 3.6588 | loss_G_identity: 1.0486 | loss_G_GAN: 0.7984 | loss_G_cycle: 1.8117 | loss_D: 0.0340 -- ETA: 3:18:50.786617\n",
      "Epoch 021/050 [0176/0786] -- loss_G: 3.6720 | loss_G_identity: 1.0575 | loss_G_GAN: 0.8009 | loss_G_cycle: 1.8136 | loss_D: 0.0319 -- ETA: 3:17:17.103647\n",
      "Stopped by user.\n"
     ]
    }
   ],
   "source": [
    "model = CycleGAN(cuda, n_res_blocks=5, lr=0.000003, load=True, load_dir='./output')\n",
    "logger = Logger(batches_epoch=len(loader), epoch=17, n_epochs=50)\n",
    "logger.load_losses()\n",
    "logger = train(model, loader, cuda, logger=logger)"
   ]
  },
  {
   "cell_type": "code",
   "execution_count": null,
   "metadata": {},
   "outputs": [],
   "source": []
  }
 ],
 "metadata": {
  "kernelspec": {
   "display_name": "Python 3",
   "language": "python",
   "name": "python3"
  },
  "language_info": {
   "codemirror_mode": {
    "name": "ipython",
    "version": 3
   },
   "file_extension": ".py",
   "mimetype": "text/x-python",
   "name": "python",
   "nbconvert_exporter": "python",
   "pygments_lexer": "ipython3",
   "version": "3.10.13"
  }
 },
 "nbformat": 4,
 "nbformat_minor": 2
}
